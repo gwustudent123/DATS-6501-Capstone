{
 "cells": [
  {
   "cell_type": "code",
   "execution_count": 2,
   "metadata": {},
   "outputs": [],
   "source": [
    "import numpy as np\n",
    "import os\n",
    "import pydicom\n",
    "import pandas as pd\n",
    "import sklearn\n",
    "from sklearn.model_selection import train_test_split\n",
    "import time\n",
    "folder = '/home/vbhandaru/PycharmProjects/Capstone'"
   ]
  },
  {
   "cell_type": "code",
   "execution_count": 3,
   "metadata": {},
   "outputs": [
    {
     "name": "stdout",
     "output_type": "stream",
     "text": [
      "(25684, 2)\n",
      "                          class                             patientId\n",
      "0  No Lung Opacity / Not Normal  0004cfab-14fd-4e49-80ba-63a80b6bddd6\n",
      "1  No Lung Opacity / Not Normal  00313ee0-9eaa-42f4-b0ab-c148ed3241cd\n",
      "2  No Lung Opacity / Not Normal  00322d4d-1c29-4943-afc9-b6754be640eb\n",
      "3                        Normal  003d8fa0-6bf1-40ed-b54c-ac657f8495c5\n",
      "Train:  (17978, 2) Val:  (2569, 2) Test:  (5137, 2)\n"
     ]
    }
   ],
   "source": [
    "h0 = pd.read_csv(folder + '/stage_1_detailed_class_info.csv')\n",
    "h0['n'] = 1\n",
    "h = pd.DataFrame(h0.groupby(['patientId', 'class'])['n'].sum())\n",
    "pids = [i[0] for i in h.index.values]\n",
    "classes = [i[1] for i in h.index.values]\n",
    "counts = list(h['n'])\n",
    "h1 = pd.DataFrame({'patientId': pids, 'class': classes})\n",
    "print(h1.shape)\n",
    "print(h1.head(4))\n",
    "train, test1 = train_test_split(h1, test_size=0.3, random_state=43)\n",
    "test, val = train_test_split(test1, test_size=1/3, random_state=43)\n",
    "print('Train: ', train.shape, 'Val: ', val.shape, 'Test: ', test.shape)"
   ]
  },
  {
   "cell_type": "code",
   "execution_count": 4,
   "metadata": {},
   "outputs": [],
   "source": [
    "np.save(folder + '/pid lists/train_pids.npy', train)\n",
    "np.save(folder + '/pid lists/val_pids.npy', val)\n",
    "np.save(folder + '/pid lists/test_pids.npy', test)"
   ]
  },
  {
   "cell_type": "code",
   "execution_count": 5,
   "metadata": {},
   "outputs": [
    {
     "name": "stdout",
     "output_type": "stream",
     "text": [
      "True True True\n"
     ]
    }
   ],
   "source": [
    "#verify that files are correct\n",
    "train2 = np.load(folder + '/pid lists/train_pids.npy')\n",
    "val2 = np.load(folder + '/pid lists/val_pids.npy')\n",
    "test2 = np.load(folder + '/pid lists/test_pids.npy')\n",
    "print(np.array_equal(train, train2), np.array_equal(val, val2), np.array_equal(test, test2))"
   ]
  },
  {
   "cell_type": "code",
   "execution_count": null,
   "metadata": {},
   "outputs": [],
   "source": []
  }
 ],
 "metadata": {
  "kernelspec": {
   "display_name": "Python 3",
   "language": "python",
   "name": "python3"
  },
  "language_info": {
   "codemirror_mode": {
    "name": "ipython",
    "version": 3
   },
   "file_extension": ".py",
   "mimetype": "text/x-python",
   "name": "python",
   "nbconvert_exporter": "python",
   "pygments_lexer": "ipython3",
   "version": "3.5.2"
  }
 },
 "nbformat": 4,
 "nbformat_minor": 2
}
